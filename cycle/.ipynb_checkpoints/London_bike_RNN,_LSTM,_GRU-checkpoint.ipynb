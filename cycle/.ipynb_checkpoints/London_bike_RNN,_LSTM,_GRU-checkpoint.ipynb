{
 "cells": [
  {
   "cell_type": "code",
   "execution_count": null,
   "metadata": {
    "id": "cBaUdlenTXtT"
   },
   "outputs": [],
   "source": [
    "\n",
    "# IMPORTANT: RUN THIS CELL IN ORDER TO IMPORT YOUR KAGGLE DATA SOURCES\n",
    "# TO THE CORRECT LOCATION (/kaggle/input) IN YOUR NOTEBOOK,\n",
    "# THEN FEEL FREE TO DELETE THIS CELL.\n",
    "# NOTE: THIS NOTEBOOK ENVIRONMENT DIFFERS FROM KAGGLE'S PYTHON\n",
    "# ENVIRONMENT SO THERE MAY BE MISSING LIBRARIES USED BY YOUR\n",
    "# NOTEBOOK.\n",
    "\n",
    "import os\n",
    "import sys\n",
    "from tempfile import NamedTemporaryFile\n",
    "from urllib.request import urlopen\n",
    "from urllib.parse import unquote, urlparse\n",
    "from urllib.error import HTTPError\n",
    "from zipfile import ZipFile\n",
    "import tarfile\n",
    "import shutil\n",
    "\n",
    "CHUNK_SIZE = 40960\n",
    "DATA_SOURCE_MAPPING = 'london-bike-sharing-dataset:https%3A%2F%2Fstorage.googleapis.com%2Fkaggle-data-sets%2F376751%2F731448%2Fbundle%2Farchive.zip%3FX-Goog-Algorithm%3DGOOG4-RSA-SHA256%26X-Goog-Credential%3Dgcp-kaggle-com%2540kaggle-161607.iam.gserviceaccount.com%252F20240425%252Fauto%252Fstorage%252Fgoog4_request%26X-Goog-Date%3D20240425T220816Z%26X-Goog-Expires%3D259200%26X-Goog-SignedHeaders%3Dhost%26X-Goog-Signature%3D1211cd1ffce6f92c244516cdb8b6de8187bf3dc4d4914920fb8fc2ed9ec1e89f05946b7349f644e4e419d983a947820352e710c612cc1e5f72e1cf445f220878dac261169f723769267eb89978aa02eef3cb712cd76fd6fb5751f3df93508c85456cb67ba54128630db8f36b1527bf17d061bd85eb19cc5cf75f7152e44e2635c16fa25db452c2002b7cdf0cb7c53d645d913a4ba6fb2ce0f20de86716cecd60ffd8227c38065b270393b8500ad06935c1486cff9c4822fb698dc8d4644b48aa23eb4fb7a4bdeec467649aafbb6b8ec8a5a77963a42ac214696e098ab8b60e7f1f29d1e336bbf3284b4103a89b6920735db4ba46b5d840d3524c76a76b6cee50'\n",
    "\n",
    "KAGGLE_INPUT_PATH='/kaggle/input'\n",
    "KAGGLE_WORKING_PATH='/kaggle/working'\n",
    "KAGGLE_SYMLINK='kaggle'\n",
    "\n",
    "!umount /kaggle/input/ 2> /dev/null\n",
    "shutil.rmtree('/kaggle/input', ignore_errors=True)\n",
    "os.makedirs(KAGGLE_INPUT_PATH, 0o777, exist_ok=True)\n",
    "os.makedirs(KAGGLE_WORKING_PATH, 0o777, exist_ok=True)\n",
    "\n",
    "try:\n",
    "  os.symlink(KAGGLE_INPUT_PATH, os.path.join(\"..\", 'input'), target_is_directory=True)\n",
    "except FileExistsError:\n",
    "  pass\n",
    "try:\n",
    "  os.symlink(KAGGLE_WORKING_PATH, os.path.join(\"..\", 'working'), target_is_directory=True)\n",
    "except FileExistsError:\n",
    "  pass\n",
    "\n",
    "for data_source_mapping in DATA_SOURCE_MAPPING.split(','):\n",
    "    directory, download_url_encoded = data_source_mapping.split(':')\n",
    "    download_url = unquote(download_url_encoded)\n",
    "    filename = urlparse(download_url).path\n",
    "    destination_path = os.path.join(KAGGLE_INPUT_PATH, directory)\n",
    "    try:\n",
    "        with urlopen(download_url) as fileres, NamedTemporaryFile() as tfile:\n",
    "            total_length = fileres.headers['content-length']\n",
    "            print(f'Downloading {directory}, {total_length} bytes compressed')\n",
    "            dl = 0\n",
    "            data = fileres.read(CHUNK_SIZE)\n",
    "            while len(data) > 0:\n",
    "                dl += len(data)\n",
    "                tfile.write(data)\n",
    "                done = int(50 * dl / int(total_length))\n",
    "                sys.stdout.write(f\"\\r[{'=' * done}{' ' * (50-done)}] {dl} bytes downloaded\")\n",
    "                sys.stdout.flush()\n",
    "                data = fileres.read(CHUNK_SIZE)\n",
    "            if filename.endswith('.zip'):\n",
    "              with ZipFile(tfile) as zfile:\n",
    "                zfile.extractall(destination_path)\n",
    "            else:\n",
    "              with tarfile.open(tfile.name) as tarfile:\n",
    "                tarfile.extractall(destination_path)\n",
    "            print(f'\\nDownloaded and uncompressed: {directory}')\n",
    "    except HTTPError as e:\n",
    "        print(f'Failed to load (likely expired) {download_url} to path {destination_path}')\n",
    "        continue\n",
    "    except OSError as e:\n",
    "        print(f'Failed to load {download_url} to path {destination_path}')\n",
    "        continue\n",
    "\n",
    "print('Data source import complete.')\n"
   ]
  },
  {
   "cell_type": "code",
   "execution_count": null,
   "metadata": {
    "_cell_guid": "b1076dfc-b9ad-4769-8c92-a6c4dae69d19",
    "_uuid": "8f2839f25d086af736a60e9eeb907d3b93b6e0e5",
    "execution": {
     "iopub.execute_input": "2023-06-18T22:47:49.145224Z",
     "iopub.status.busy": "2023-06-18T22:47:49.144828Z",
     "iopub.status.idle": "2023-06-18T22:47:49.158545Z",
     "shell.execute_reply": "2023-06-18T22:47:49.157149Z",
     "shell.execute_reply.started": "2023-06-18T22:47:49.145195Z"
    },
    "id": "jV0ZHm4UTXtY"
   },
   "outputs": [],
   "source": [
    "# This Python 3 environment comes with many helpful analytics libraries installed\n",
    "# It is defined by the kaggle/python Docker image: https://github.com/kaggle/docker-python\n",
    "# For example, here's several helpful packages to load\n",
    "\n",
    "import numpy as np # linear algebra\n",
    "import pandas as pd # data processing, CSV file I/O (e.g. pd.read_csv)\n",
    "import matplotlib.pyplot as plt\n",
    "%matplotlib inline\n",
    "\n",
    "# Input data files are available in the read-only \"../input/\" directory\n",
    "# For example, running this (by clicking run or pressing Shift+Enter) will list all files under the input directory\n",
    "\n",
    "import os\n",
    "for dirname, _, filenames in os.walk('/kaggle/input'):\n",
    "    for filename in filenames:\n",
    "        print(os.path.join(dirname, filename))\n",
    "\n",
    "# You can write up to 20GB to the current directory (/kaggle/working/) that gets preserved as output when you create a version using \"Save & Run All\"\n",
    "# You can also write temporary files to /kaggle/temp/, but they won't be saved outside of the current session"
   ]
  },
  {
   "cell_type": "code",
   "execution_count": null,
   "metadata": {
    "execution": {
     "iopub.execute_input": "2023-06-18T22:47:52.394827Z",
     "iopub.status.busy": "2023-06-18T22:47:52.394067Z",
     "iopub.status.idle": "2023-06-18T22:47:52.514228Z",
     "shell.execute_reply": "2023-06-18T22:47:52.512388Z",
     "shell.execute_reply.started": "2023-06-18T22:47:52.394791Z"
    },
    "id": "VNsLZHr8TXtZ"
   },
   "outputs": [],
   "source": [
    "df = pd.read_csv('/kaggle/input/london-bike-sharing-dataset/london_merged.csv', parse_dates=['timestamp'])\n",
    "df.head()"
   ]
  },
  {
   "cell_type": "code",
   "execution_count": null,
   "metadata": {
    "execution": {
     "iopub.execute_input": "2023-06-18T22:47:56.59446Z",
     "iopub.status.busy": "2023-06-18T22:47:56.593917Z",
     "iopub.status.idle": "2023-06-18T22:47:56.606137Z",
     "shell.execute_reply": "2023-06-18T22:47:56.604409Z",
     "shell.execute_reply.started": "2023-06-18T22:47:56.594414Z"
    },
    "id": "jZopc1LtTXta"
   },
   "outputs": [],
   "source": [
    "df['timestamp']"
   ]
  },
  {
   "cell_type": "code",
   "execution_count": null,
   "metadata": {
    "execution": {
     "iopub.execute_input": "2023-06-18T22:47:58.83056Z",
     "iopub.status.busy": "2023-06-18T22:47:58.830001Z",
     "iopub.status.idle": "2023-06-18T22:47:58.837806Z",
     "shell.execute_reply": "2023-06-18T22:47:58.836595Z",
     "shell.execute_reply.started": "2023-06-18T22:47:58.830512Z"
    },
    "id": "arDVoUG7TXtb"
   },
   "outputs": [],
   "source": [
    "df.shape"
   ]
  },
  {
   "cell_type": "code",
   "execution_count": null,
   "metadata": {
    "execution": {
     "iopub.execute_input": "2023-06-18T22:47:59.865407Z",
     "iopub.status.busy": "2023-06-18T22:47:59.864872Z",
     "iopub.status.idle": "2023-06-18T22:47:59.875336Z",
     "shell.execute_reply": "2023-06-18T22:47:59.874316Z",
     "shell.execute_reply.started": "2023-06-18T22:47:59.865368Z"
    },
    "id": "d98KE-ZTTXtc"
   },
   "outputs": [],
   "source": [
    "#17000개 학습용, 414개 테스트용\n",
    "\n",
    "train = df.iloc[:17000,1:2]\n",
    "test = df.iloc[17000:17414, 1:2]"
   ]
  },
  {
   "cell_type": "code",
   "execution_count": null,
   "metadata": {
    "execution": {
     "iopub.execute_input": "2023-06-18T22:48:00.466015Z",
     "iopub.status.busy": "2023-06-18T22:48:00.465324Z",
     "iopub.status.idle": "2023-06-18T22:48:00.472113Z",
     "shell.execute_reply": "2023-06-18T22:48:00.47069Z",
     "shell.execute_reply.started": "2023-06-18T22:48:00.46598Z"
    },
    "id": "BVvgkfmpTXte"
   },
   "outputs": [],
   "source": [
    "print(train.shape)\n",
    "print(test.shape)"
   ]
  },
  {
   "cell_type": "code",
   "execution_count": null,
   "metadata": {
    "execution": {
     "iopub.execute_input": "2023-06-18T22:48:02.133062Z",
     "iopub.status.busy": "2023-06-18T22:48:02.132662Z",
     "iopub.status.idle": "2023-06-18T22:48:02.730879Z",
     "shell.execute_reply": "2023-06-18T22:48:02.729378Z",
     "shell.execute_reply.started": "2023-06-18T22:48:02.133033Z"
    },
    "id": "n4eVzBu6TXtf"
   },
   "outputs": [],
   "source": [
    "df['cnt'][:17000].plot(figsize=(15,4), legend=True)\n",
    "df['cnt'][17000:].plot(figsize=(15,4), legend=True)\n",
    "plt.legend(['train','test'])\n",
    "plt.title('bike share demand')\n",
    "plt.show()"
   ]
  },
  {
   "cell_type": "code",
   "execution_count": null,
   "metadata": {
    "execution": {
     "iopub.execute_input": "2023-06-18T22:48:04.676947Z",
     "iopub.status.busy": "2023-06-18T22:48:04.676531Z",
     "iopub.status.idle": "2023-06-18T22:48:04.682793Z",
     "shell.execute_reply": "2023-06-18T22:48:04.681898Z",
     "shell.execute_reply.started": "2023-06-18T22:48:04.676906Z"
    },
    "id": "QA7KKnbWTXtg"
   },
   "outputs": [],
   "source": [
    "#시계열 분석을 위한 데이터 전처리 작업\n",
    "#별도의 변수는 필요없다. 몇시간 전 데이터를 통해서 학습. 차수를 추정하는 방법."
   ]
  },
  {
   "cell_type": "code",
   "execution_count": null,
   "metadata": {
    "execution": {
     "iopub.execute_input": "2023-06-18T22:48:05.943387Z",
     "iopub.status.busy": "2023-06-18T22:48:05.942529Z",
     "iopub.status.idle": "2023-06-18T22:48:07.091129Z",
     "shell.execute_reply": "2023-06-18T22:48:07.089846Z",
     "shell.execute_reply.started": "2023-06-18T22:48:05.943346Z"
    },
    "id": "hKG9REQiTXtg"
   },
   "outputs": [],
   "source": [
    "#pacf 이용하여 차수 추정\n",
    "from statsmodels.tsa.stattools import pacf\n",
    "pacf = pacf(df['cnt'], nlags=20, method='ols')\n",
    "print(pacf)"
   ]
  },
  {
   "cell_type": "code",
   "execution_count": null,
   "metadata": {
    "execution": {
     "iopub.execute_input": "2023-06-18T22:48:07.093902Z",
     "iopub.status.busy": "2023-06-18T22:48:07.093204Z",
     "iopub.status.idle": "2023-06-18T22:48:07.440714Z",
     "shell.execute_reply": "2023-06-18T22:48:07.439284Z",
     "shell.execute_reply.started": "2023-06-18T22:48:07.093859Z"
    },
    "id": "ROA3QJqzTXth"
   },
   "outputs": [],
   "source": [
    "from statsmodels.graphics.tsaplots import plot_pacf\n",
    "plot_pacf(pacf, lags=9, method='ols', title='pa').show"
   ]
  },
  {
   "cell_type": "code",
   "execution_count": null,
   "metadata": {
    "execution": {
     "iopub.execute_input": "2023-06-18T22:48:07.96475Z",
     "iopub.status.busy": "2023-06-18T22:48:07.963916Z",
     "iopub.status.idle": "2023-06-18T22:48:08.059081Z",
     "shell.execute_reply": "2023-06-18T22:48:08.05781Z",
     "shell.execute_reply.started": "2023-06-18T22:48:07.964713Z"
    },
    "id": "wf3hjZZwTXth"
   },
   "outputs": [],
   "source": [
    "#전처리 작업 - 데이터의 스케일작업 (MinMaxscale)\n",
    "\n",
    "from sklearn.preprocessing import MinMaxScaler\n",
    "sc = MinMaxScaler(feature_range = (0,1))\n",
    "train_scaled = sc.fit_transform(train)"
   ]
  },
  {
   "cell_type": "code",
   "execution_count": null,
   "metadata": {
    "execution": {
     "iopub.execute_input": "2023-06-18T22:48:09.990459Z",
     "iopub.status.busy": "2023-06-18T22:48:09.990048Z",
     "iopub.status.idle": "2023-06-18T22:48:09.998543Z",
     "shell.execute_reply": "2023-06-18T22:48:09.997193Z",
     "shell.execute_reply.started": "2023-06-18T22:48:09.990418Z"
    },
    "id": "1GWjAPV3TXti"
   },
   "outputs": [],
   "source": [
    "train_scaled"
   ]
  },
  {
   "cell_type": "code",
   "execution_count": null,
   "metadata": {
    "execution": {
     "iopub.execute_input": "2023-06-18T22:48:13.65367Z",
     "iopub.status.busy": "2023-06-18T22:48:13.653238Z",
     "iopub.status.idle": "2023-06-18T22:48:13.66137Z",
     "shell.execute_reply": "2023-06-18T22:48:13.660155Z",
     "shell.execute_reply.started": "2023-06-18T22:48:13.653635Z"
    },
    "id": "QNHiYSG3TXti"
   },
   "outputs": [],
   "source": [
    "train_scaled.shape"
   ]
  },
  {
   "cell_type": "code",
   "execution_count": null,
   "metadata": {
    "execution": {
     "iopub.execute_input": "2023-06-18T22:48:15.767557Z",
     "iopub.status.busy": "2023-06-18T22:48:15.766235Z",
     "iopub.status.idle": "2023-06-18T22:48:15.772568Z",
     "shell.execute_reply": "2023-06-18T22:48:15.771496Z",
     "shell.execute_reply.started": "2023-06-18T22:48:15.767505Z"
    },
    "id": "NDW2cF1fTXti"
   },
   "outputs": [],
   "source": [
    "#시계열 딥러닝은 자기 자신의 과거를 독립변수로 활용한다. 1시간 단위로 시프트 시키는 작업을 해본다."
   ]
  },
  {
   "cell_type": "code",
   "execution_count": null,
   "metadata": {
    "execution": {
     "iopub.execute_input": "2023-06-18T22:48:16.636569Z",
     "iopub.status.busy": "2023-06-18T22:48:16.635706Z",
     "iopub.status.idle": "2023-06-18T22:48:16.68216Z",
     "shell.execute_reply": "2023-06-18T22:48:16.680586Z",
     "shell.execute_reply.started": "2023-06-18T22:48:16.63653Z"
    },
    "id": "eUk7dzlOTXti"
   },
   "outputs": [],
   "source": [
    "x_train = []\n",
    "y_train = []\n",
    "\n",
    "for i in range(1, 17000):\n",
    "    x_train.append(train_scaled[i-1:i, 0])\n",
    "    y_train.append(train_scaled[i, 0])\n",
    "\n",
    "x_train, y_train = np.array(x_train), np.array(y_train)"
   ]
  },
  {
   "cell_type": "code",
   "execution_count": null,
   "metadata": {
    "execution": {
     "iopub.execute_input": "2023-06-18T22:48:18.941236Z",
     "iopub.status.busy": "2023-06-18T22:48:18.940463Z",
     "iopub.status.idle": "2023-06-18T22:48:18.953612Z",
     "shell.execute_reply": "2023-06-18T22:48:18.952386Z",
     "shell.execute_reply.started": "2023-06-18T22:48:18.941183Z"
    },
    "id": "qwijpZ_xTXti"
   },
   "outputs": [],
   "source": [
    "x_train.shape"
   ]
  },
  {
   "cell_type": "code",
   "execution_count": null,
   "metadata": {
    "execution": {
     "iopub.execute_input": "2023-06-18T22:48:19.973611Z",
     "iopub.status.busy": "2023-06-18T22:48:19.973193Z",
     "iopub.status.idle": "2023-06-18T22:48:19.978383Z",
     "shell.execute_reply": "2023-06-18T22:48:19.977022Z",
     "shell.execute_reply.started": "2023-06-18T22:48:19.973572Z"
    },
    "id": "1X-yVqKWTXti"
   },
   "outputs": [],
   "source": [
    "#시계열 딥러닝은 3차원 배열을 필요로 한다. 3차원 배열로 전처리"
   ]
  },
  {
   "cell_type": "code",
   "execution_count": null,
   "metadata": {
    "execution": {
     "iopub.execute_input": "2023-06-18T22:48:21.49415Z",
     "iopub.status.busy": "2023-06-18T22:48:21.493733Z",
     "iopub.status.idle": "2023-06-18T22:48:21.501161Z",
     "shell.execute_reply": "2023-06-18T22:48:21.500235Z",
     "shell.execute_reply.started": "2023-06-18T22:48:21.494113Z"
    },
    "id": "AGHAmgbxTXtj"
   },
   "outputs": [],
   "source": [
    "x_train = np.reshape(x_train, (x_train.shape[0], x_train.shape[1],1))\n",
    "x_train.shape"
   ]
  },
  {
   "cell_type": "code",
   "execution_count": null,
   "metadata": {
    "execution": {
     "iopub.execute_input": "2023-06-18T22:48:22.246281Z",
     "iopub.status.busy": "2023-06-18T22:48:22.244961Z",
     "iopub.status.idle": "2023-06-18T22:48:32.044797Z",
     "shell.execute_reply": "2023-06-18T22:48:32.043716Z",
     "shell.execute_reply.started": "2023-06-18T22:48:22.246235Z"
    },
    "id": "5DcII3cYTXtj"
   },
   "outputs": [],
   "source": [
    "from keras.models import Sequential\n",
    "from keras.layers.core import Dense, Activation\n",
    "from keras.layers import SimpleRNN"
   ]
  },
  {
   "cell_type": "code",
   "execution_count": null,
   "metadata": {
    "execution": {
     "iopub.execute_input": "2023-06-18T22:48:32.049078Z",
     "iopub.status.busy": "2023-06-18T22:48:32.048029Z",
     "iopub.status.idle": "2023-06-18T22:48:32.365194Z",
     "shell.execute_reply": "2023-06-18T22:48:32.363869Z",
     "shell.execute_reply.started": "2023-06-18T22:48:32.049034Z"
    },
    "id": "ao8GHWMmTXtj"
   },
   "outputs": [],
   "source": [
    "rnn = Sequential()\n",
    "rnn.add(SimpleRNN(activation='relu', units=6, input_shape=(1,1)))\n",
    "rnn.add(Dense(activation='linear', units=1))"
   ]
  },
  {
   "cell_type": "code",
   "execution_count": null,
   "metadata": {
    "execution": {
     "iopub.execute_input": "2023-06-18T22:48:32.366918Z",
     "iopub.status.busy": "2023-06-18T22:48:32.366508Z",
     "iopub.status.idle": "2023-06-18T22:48:32.38937Z",
     "shell.execute_reply": "2023-06-18T22:48:32.387906Z",
     "shell.execute_reply.started": "2023-06-18T22:48:32.366862Z"
    },
    "id": "CrSBVqNkTXtj"
   },
   "outputs": [],
   "source": [
    "print(rnn.summary())"
   ]
  },
  {
   "cell_type": "code",
   "execution_count": null,
   "metadata": {
    "execution": {
     "iopub.execute_input": "2023-06-18T22:48:38.59191Z",
     "iopub.status.busy": "2023-06-18T22:48:38.59151Z",
     "iopub.status.idle": "2023-06-18T22:48:38.61411Z",
     "shell.execute_reply": "2023-06-18T22:48:38.61321Z",
     "shell.execute_reply.started": "2023-06-18T22:48:38.591878Z"
    },
    "id": "naU67Wk_TXtj"
   },
   "outputs": [],
   "source": [
    "rnn.compile(loss='mse', optimizer='adam', metrics=['mse'])"
   ]
  },
  {
   "cell_type": "code",
   "execution_count": null,
   "metadata": {
    "execution": {
     "iopub.execute_input": "2023-06-18T22:48:41.620805Z",
     "iopub.status.busy": "2023-06-18T22:48:41.620245Z",
     "iopub.status.idle": "2023-06-18T22:50:04.904644Z",
     "shell.execute_reply": "2023-06-18T22:50:04.903245Z",
     "shell.execute_reply.started": "2023-06-18T22:48:41.620765Z"
    },
    "id": "SqjbEWxDTXtj"
   },
   "outputs": [],
   "source": [
    "rnn.fit(x_train, y_train, batch_size=1, epochs=2)"
   ]
  },
  {
   "cell_type": "code",
   "execution_count": null,
   "metadata": {
    "execution": {
     "iopub.execute_input": "2023-06-18T22:50:07.328009Z",
     "iopub.status.busy": "2023-06-18T22:50:07.327589Z",
     "iopub.status.idle": "2023-06-18T22:50:07.33785Z",
     "shell.execute_reply": "2023-06-18T22:50:07.336479Z",
     "shell.execute_reply.started": "2023-06-18T22:50:07.327977Z"
    },
    "id": "Lo5F1ErRTXtj"
   },
   "outputs": [],
   "source": [
    "inputs = sc.transform(test)\n",
    "inputs.shape"
   ]
  },
  {
   "cell_type": "code",
   "execution_count": null,
   "metadata": {
    "execution": {
     "iopub.execute_input": "2023-06-18T22:50:27.217153Z",
     "iopub.status.busy": "2023-06-18T22:50:27.216702Z",
     "iopub.status.idle": "2023-06-18T22:50:27.228759Z",
     "shell.execute_reply": "2023-06-18T22:50:27.227557Z",
     "shell.execute_reply.started": "2023-06-18T22:50:27.217108Z"
    },
    "id": "voaUij1QTXtk"
   },
   "outputs": [],
   "source": [
    "x_test = []\n",
    "for i in range(1, 415):\n",
    "    x_test.append(inputs[i-1:i,0])\n",
    "x_test = np.array(x_test)\n",
    "x_test = np.reshape(x_test, (x_test.shape[0], x_test.shape[1],1))\n",
    "x_test.shape"
   ]
  },
  {
   "cell_type": "code",
   "execution_count": null,
   "metadata": {
    "execution": {
     "iopub.execute_input": "2023-06-18T22:50:30.120349Z",
     "iopub.status.busy": "2023-06-18T22:50:30.119919Z",
     "iopub.status.idle": "2023-06-18T22:50:30.495695Z",
     "shell.execute_reply": "2023-06-18T22:50:30.494225Z",
     "shell.execute_reply.started": "2023-06-18T22:50:30.120307Z"
    },
    "id": "XS4uSJicTXtk"
   },
   "outputs": [],
   "source": [
    "rnn = rnn.predict(x_test)\n",
    "rnn = sc.inverse_transform(rnn)"
   ]
  },
  {
   "cell_type": "code",
   "execution_count": null,
   "metadata": {
    "execution": {
     "iopub.execute_input": "2023-06-18T22:50:32.046972Z",
     "iopub.status.busy": "2023-06-18T22:50:32.046319Z",
     "iopub.status.idle": "2023-06-18T22:50:32.052287Z",
     "shell.execute_reply": "2023-06-18T22:50:32.050989Z",
     "shell.execute_reply.started": "2023-06-18T22:50:32.04693Z"
    },
    "id": "G0q7g9xfTXtk"
   },
   "outputs": [],
   "source": [
    "test1 = pd.DataFrame(test)\n",
    "rnn1= pd.DataFrame(rnn)"
   ]
  },
  {
   "cell_type": "code",
   "execution_count": null,
   "metadata": {
    "execution": {
     "iopub.execute_input": "2023-06-18T22:50:40.22267Z",
     "iopub.status.busy": "2023-06-18T22:50:40.222223Z",
     "iopub.status.idle": "2023-06-18T22:50:40.541707Z",
     "shell.execute_reply": "2023-06-18T22:50:40.540615Z",
     "shell.execute_reply.started": "2023-06-18T22:50:40.222635Z"
    },
    "id": "7vcRP89kTXtk"
   },
   "outputs": [],
   "source": [
    "test1.plot(figsize=(15,4), legend=True)\n",
    "plt.legend(['cnt'])\n",
    "plt.title('bike share demand')\n",
    "plt.show()"
   ]
  },
  {
   "cell_type": "code",
   "execution_count": null,
   "metadata": {
    "execution": {
     "iopub.execute_input": "2023-06-18T22:50:46.115989Z",
     "iopub.status.busy": "2023-06-18T22:50:46.115594Z",
     "iopub.status.idle": "2023-06-18T22:50:46.405721Z",
     "shell.execute_reply": "2023-06-18T22:50:46.404498Z",
     "shell.execute_reply.started": "2023-06-18T22:50:46.115947Z"
    },
    "id": "JAB0bPUgTXtk"
   },
   "outputs": [],
   "source": [
    "rnn1.plot(figsize=(15,4), legend=True)\n",
    "plt.legend(['RNN'])\n",
    "plt.title('bike share demand')\n",
    "plt.show()"
   ]
  },
  {
   "cell_type": "code",
   "execution_count": null,
   "metadata": {
    "execution": {
     "iopub.execute_input": "2023-06-18T22:50:49.008109Z",
     "iopub.status.busy": "2023-06-18T22:50:49.00766Z",
     "iopub.status.idle": "2023-06-18T22:50:49.014335Z",
     "shell.execute_reply": "2023-06-18T22:50:49.01249Z",
     "shell.execute_reply.started": "2023-06-18T22:50:49.008075Z"
    },
    "id": "D9sApcZSTXtl"
   },
   "outputs": [],
   "source": [
    "test = np.array(test)"
   ]
  },
  {
   "cell_type": "code",
   "execution_count": null,
   "metadata": {
    "execution": {
     "iopub.execute_input": "2023-06-18T22:59:19.109992Z",
     "iopub.status.busy": "2023-06-18T22:59:19.109588Z",
     "iopub.status.idle": "2023-06-18T22:59:19.450166Z",
     "shell.execute_reply": "2023-06-18T22:59:19.448773Z",
     "shell.execute_reply.started": "2023-06-18T22:59:19.109962Z"
    },
    "id": "tQHrmDdQTXtl"
   },
   "outputs": [],
   "source": [
    "plt.figure(figsize=(15,5))\n",
    "plt.plot(test, marker='.', label='cnt', color='black')\n",
    "plt.plot(rnn, marker=',', label='RNN', color='red')\n",
    "plt.legend()"
   ]
  },
  {
   "cell_type": "code",
   "execution_count": null,
   "metadata": {
    "execution": {
     "iopub.execute_input": "2023-06-18T22:54:50.351891Z",
     "iopub.status.busy": "2023-06-18T22:54:50.351496Z",
     "iopub.status.idle": "2023-06-18T22:54:50.495994Z",
     "shell.execute_reply": "2023-06-18T22:54:50.494691Z",
     "shell.execute_reply.started": "2023-06-18T22:54:50.351861Z"
    },
    "id": "TU96L0cXTXtm"
   },
   "outputs": [],
   "source": [
    "from keras.layers import LSTM\n",
    "lstm = Sequential()\n",
    "lstm.add(LSTM(units=6, activation='relu', input_shape=(1,1)))\n",
    "lstm.add(Dense(units=1, activation='linear'))"
   ]
  },
  {
   "cell_type": "code",
   "execution_count": null,
   "metadata": {
    "execution": {
     "iopub.execute_input": "2023-06-18T22:55:02.084555Z",
     "iopub.status.busy": "2023-06-18T22:55:02.08405Z",
     "iopub.status.idle": "2023-06-18T22:55:02.107791Z",
     "shell.execute_reply": "2023-06-18T22:55:02.106852Z",
     "shell.execute_reply.started": "2023-06-18T22:55:02.084515Z"
    },
    "id": "vOPFQybCTXtm"
   },
   "outputs": [],
   "source": [
    "print(lstm.summary())"
   ]
  },
  {
   "cell_type": "code",
   "execution_count": null,
   "metadata": {
    "execution": {
     "iopub.execute_input": "2023-06-18T22:56:47.009389Z",
     "iopub.status.busy": "2023-06-18T22:56:47.008316Z",
     "iopub.status.idle": "2023-06-18T22:58:12.125333Z",
     "shell.execute_reply": "2023-06-18T22:58:12.124062Z",
     "shell.execute_reply.started": "2023-06-18T22:56:47.009323Z"
    },
    "id": "e8YjI01gTXtm"
   },
   "outputs": [],
   "source": [
    "lstm.compile(loss='mse', optimizer='adam', metrics=['mse'])\n",
    "lstm.fit(x_train, y_train, batch_size=1, epochs=2)"
   ]
  },
  {
   "cell_type": "code",
   "execution_count": null,
   "metadata": {
    "execution": {
     "iopub.execute_input": "2023-06-18T22:58:12.341551Z",
     "iopub.status.busy": "2023-06-18T22:58:12.341148Z",
     "iopub.status.idle": "2023-06-18T22:58:12.625097Z",
     "shell.execute_reply": "2023-06-18T22:58:12.62362Z",
     "shell.execute_reply.started": "2023-06-18T22:58:12.34151Z"
    },
    "id": "V2TbOpFdTXtm"
   },
   "outputs": [],
   "source": [
    "lstm = lstm.predict(x_test)\n",
    "lstm = sc.inverse_transform(lstm)"
   ]
  },
  {
   "cell_type": "code",
   "execution_count": null,
   "metadata": {
    "execution": {
     "iopub.execute_input": "2023-06-18T22:59:36.265027Z",
     "iopub.status.busy": "2023-06-18T22:59:36.264587Z",
     "iopub.status.idle": "2023-06-18T22:59:36.603011Z",
     "shell.execute_reply": "2023-06-18T22:59:36.601793Z",
     "shell.execute_reply.started": "2023-06-18T22:59:36.264995Z"
    },
    "id": "IihBwZIHTXtm"
   },
   "outputs": [],
   "source": [
    "plt.figure(figsize=(15,5))\n",
    "plt.plot(test, marker='.', label='cnt', color='black')\n",
    "plt.plot(lstm, marker=',', label='RNN', color='green')\n",
    "plt.legend()"
   ]
  },
  {
   "cell_type": "code",
   "execution_count": null,
   "metadata": {
    "execution": {
     "iopub.execute_input": "2023-06-18T23:10:11.501028Z",
     "iopub.status.busy": "2023-06-18T23:10:11.500612Z",
     "iopub.status.idle": "2023-06-18T23:10:11.650457Z",
     "shell.execute_reply": "2023-06-18T23:10:11.649196Z",
     "shell.execute_reply.started": "2023-06-18T23:10:11.500996Z"
    },
    "id": "CdQzWLXFTXtm"
   },
   "outputs": [],
   "source": [
    "from keras.layers import GRU\n",
    "\n",
    "gru = Sequential()\n",
    "gru.add(GRU(units=6, activation='relu', input_shape=(1,1)))\n",
    "gru.add(Dense(units=1, activation='linear'))"
   ]
  },
  {
   "cell_type": "code",
   "execution_count": null,
   "metadata": {
    "execution": {
     "iopub.execute_input": "2023-06-18T23:10:29.931776Z",
     "iopub.status.busy": "2023-06-18T23:10:29.931362Z",
     "iopub.status.idle": "2023-06-18T23:10:29.954465Z",
     "shell.execute_reply": "2023-06-18T23:10:29.951094Z",
     "shell.execute_reply.started": "2023-06-18T23:10:29.931744Z"
    },
    "id": "fIU1gdDITXtm"
   },
   "outputs": [],
   "source": [
    "print(gru.summary())"
   ]
  },
  {
   "cell_type": "code",
   "execution_count": null,
   "metadata": {
    "execution": {
     "iopub.execute_input": "2023-06-18T23:11:30.075254Z",
     "iopub.status.busy": "2023-06-18T23:11:30.074828Z",
     "iopub.status.idle": "2023-06-18T23:12:47.634076Z",
     "shell.execute_reply": "2023-06-18T23:12:47.63301Z",
     "shell.execute_reply.started": "2023-06-18T23:11:30.075223Z"
    },
    "id": "E5msc5vzTXtr"
   },
   "outputs": [],
   "source": [
    "gru.compile(loss='mse', optimizer='adam', metrics=['mse'])\n",
    "gru.fit(x_train, y_train, batch_size=1, epochs=2)"
   ]
  },
  {
   "cell_type": "code",
   "execution_count": null,
   "metadata": {
    "execution": {
     "iopub.execute_input": "2023-06-18T23:12:56.71499Z",
     "iopub.status.busy": "2023-06-18T23:12:56.714576Z",
     "iopub.status.idle": "2023-06-18T23:12:57.046644Z",
     "shell.execute_reply": "2023-06-18T23:12:57.045577Z",
     "shell.execute_reply.started": "2023-06-18T23:12:56.714956Z"
    },
    "id": "yLnFbuKITXtr"
   },
   "outputs": [],
   "source": [
    "gru = gru.predict(x_test)\n",
    "gru = sc.inverse_transform(gru)"
   ]
  },
  {
   "cell_type": "code",
   "execution_count": null,
   "metadata": {
    "execution": {
     "iopub.execute_input": "2023-06-18T23:13:36.500178Z",
     "iopub.status.busy": "2023-06-18T23:13:36.499729Z",
     "iopub.status.idle": "2023-06-18T23:13:36.895181Z",
     "shell.execute_reply": "2023-06-18T23:13:36.8939Z",
     "shell.execute_reply.started": "2023-06-18T23:13:36.500135Z"
    },
    "id": "B_EOLMC2TXtr"
   },
   "outputs": [],
   "source": [
    "plt.figure(figsize=(15,5))\n",
    "plt.plot(test, marker='.', label='cnt', color='black')\n",
    "plt.plot(gru, marker=',', label='GRU', color='blue')\n",
    "plt.legend()"
   ]
  },
  {
   "cell_type": "code",
   "execution_count": null,
   "metadata": {
    "execution": {
     "iopub.execute_input": "2023-06-18T23:16:25.192405Z",
     "iopub.status.busy": "2023-06-18T23:16:25.191944Z",
     "iopub.status.idle": "2023-06-18T23:16:25.641977Z",
     "shell.execute_reply": "2023-06-18T23:16:25.640683Z",
     "shell.execute_reply.started": "2023-06-18T23:16:25.19237Z"
    },
    "id": "CAJXQ9mnTXts"
   },
   "outputs": [],
   "source": [
    "plt.figure(figsize=(15,5))\n",
    "plt.plot(test, marker='.', label='cnt', color='black')\n",
    "plt.plot(rnn, marker=',', label='RNN', color='red')\n",
    "plt.plot(lstm, marker=',', label='LSTM', color='green')\n",
    "plt.plot(gru, marker=',', label='GRU', color='blue')\n",
    "plt.legend()"
   ]
  },
  {
   "cell_type": "code",
   "execution_count": null,
   "metadata": {
    "execution": {
     "iopub.execute_input": "2023-06-18T23:22:36.442911Z",
     "iopub.status.busy": "2023-06-18T23:22:36.442485Z",
     "iopub.status.idle": "2023-06-18T23:22:36.450599Z",
     "shell.execute_reply": "2023-06-18T23:22:36.44821Z",
     "shell.execute_reply.started": "2023-06-18T23:22:36.44288Z"
    },
    "id": "Sp4ToTRpTXts"
   },
   "outputs": [],
   "source": [
    "from sklearn.metrics import mean_squared_error\n",
    "\n",
    "def RMSE(y_test, y_predict):\n",
    "    return np.sqrt(mean_squared_error(y_test, y_predict))"
   ]
  },
  {
   "cell_type": "code",
   "execution_count": null,
   "metadata": {
    "execution": {
     "iopub.execute_input": "2023-06-18T23:22:38.45722Z",
     "iopub.status.busy": "2023-06-18T23:22:38.456841Z",
     "iopub.status.idle": "2023-06-18T23:22:38.464655Z",
     "shell.execute_reply": "2023-06-18T23:22:38.463385Z",
     "shell.execute_reply.started": "2023-06-18T23:22:38.457191Z"
    },
    "id": "xOziXyuKTXts"
   },
   "outputs": [],
   "source": [
    "print('RNN RMSE:', RMSE(test, rnn))"
   ]
  },
  {
   "cell_type": "code",
   "execution_count": null,
   "metadata": {
    "execution": {
     "iopub.execute_input": "2023-06-18T23:23:05.114192Z",
     "iopub.status.busy": "2023-06-18T23:23:05.113771Z",
     "iopub.status.idle": "2023-06-18T23:23:05.121287Z",
     "shell.execute_reply": "2023-06-18T23:23:05.120025Z",
     "shell.execute_reply.started": "2023-06-18T23:23:05.114158Z"
    },
    "id": "bt5y45sFTXts"
   },
   "outputs": [],
   "source": [
    "print('LSTM RMSE:', RMSE(test, lstm))"
   ]
  },
  {
   "cell_type": "code",
   "execution_count": null,
   "metadata": {
    "execution": {
     "iopub.execute_input": "2023-06-18T23:23:20.791547Z",
     "iopub.status.busy": "2023-06-18T23:23:20.791126Z",
     "iopub.status.idle": "2023-06-18T23:23:20.79899Z",
     "shell.execute_reply": "2023-06-18T23:23:20.797867Z",
     "shell.execute_reply.started": "2023-06-18T23:23:20.791515Z"
    },
    "id": "yRXmNClYTXts"
   },
   "outputs": [],
   "source": [
    "print('GRU RMSE:', RMSE(test, gru))"
   ]
  }
 ],
 "metadata": {
  "colab": {
   "name": "London bike - RNN, LSTM, GRU",
   "provenance": []
  },
  "kernelspec": {
   "display_name": "Python 3",
   "language": "python",
   "name": "python3"
  },
  "language_info": {
   "codemirror_mode": {
    "name": "ipython",
    "version": 3
   },
   "file_extension": ".py",
   "mimetype": "text/x-python",
   "name": "python",
   "nbconvert_exporter": "python",
   "pygments_lexer": "ipython3",
   "version": "3.6.4"
  }
 },
 "nbformat": 4,
 "nbformat_minor": 0
}
