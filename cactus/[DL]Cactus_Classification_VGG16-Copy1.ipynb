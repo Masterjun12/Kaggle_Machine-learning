{
 "cells": [
  {
   "cell_type": "markdown",
   "metadata": {
    "id": "mNCp3g5NrOa7"
   },
   "source": [
    "# Contents\n",
    " 1. [Load Packages](#1.-Load-Packages)\n",
    " 2. [Check Dataset](#2.-Check-Datasets)\n",
    " 3. [Hyperparameter](#3.-Hyperparameter)\n",
    " 4. [Data Preprocessing](#4.-Data-Preprocessing)\n",
    " 5. [Model](#5.-Model)\n",
    " 6. [Train](#6.-Train)\n",
    " 7. [Evaluate](#7.-Evaluate)\n",
    " 8. [Save Submission](#8.-Save-Submission)\n",
    " ---"
   ]
  },
  {
   "cell_type": "markdown",
   "metadata": {
    "id": "AqoResJyrOa9"
   },
   "source": [
    "# 1. Load Packages"
   ]
  },
  {
   "cell_type": "code",
   "execution_count": 1,
   "metadata": {},
   "outputs": [
    {
     "name": "stderr",
     "output_type": "stream",
     "text": [
      "2024-06-07 05:28:18.924784: I tensorflow/core/util/port.cc:110] oneDNN custom operations are on. You may see slightly different numerical results due to floating-point round-off errors from different computation orders. To turn them off, set the environment variable `TF_ENABLE_ONEDNN_OPTS=0`.\n",
      "2024-06-07 05:28:19.017691: I tensorflow/core/platform/cpu_feature_guard.cc:182] This TensorFlow binary is optimized to use available CPU instructions in performance-critical operations.\n",
      "To enable the following instructions: AVX2 AVX512F AVX512_VNNI FMA, in other operations, rebuild TensorFlow with the appropriate compiler flags.\n",
      "2024-06-07 05:28:20.900480: W tensorflow/compiler/tf2tensorrt/utils/py_utils.cc:38] TF-TRT Warning: Could not find TensorRT\n"
     ]
    }
   ],
   "source": [
    "import tensorflow as tf\n",
    "import numpy as np\n",
    "from PIL import Image\n",
    "import matplotlib.pyplot as plt\n",
    "import cv2, os, glob\n",
    "\n",
    "np.set_printoptions(threshold=np.inf)\n",
    "os.environ[\"CUDA_VISIBLE_DEVICES\"] = \"1\" \n",
    "\n",
    "gpus = tf.config.experimental.list_physical_devices('GPU')\n",
    "if gpus:\n",
    "    try:\n",
    "        tf.config.experimental.set_memory_growth(gpus[0], True)\n",
    "    except RuntimeError as e:\n",
    "        print(e)"
   ]
  },
  {
   "cell_type": "code",
   "execution_count": 8,
   "metadata": {
    "execution": {
     "iopub.execute_input": "2021-06-08T23:43:20.542133Z",
     "iopub.status.busy": "2021-06-08T23:43:20.541797Z",
     "iopub.status.idle": "2021-06-08T23:43:20.547705Z",
     "shell.execute_reply": "2021-06-08T23:43:20.54638Z",
     "shell.execute_reply.started": "2021-06-08T23:43:20.542101Z"
    },
    "id": "kIbgbJNCrOa-"
   },
   "outputs": [],
   "source": [
    "import os\n",
    "import numpy as np\n",
    "import pandas as pd\n",
    "import tensorflow as tf\n",
    "from PIL import Image\n",
    "from tqdm.notebook import tqdm\n",
    "from sklearn.metrics import confusion_matrix\n",
    "import seaborn as sns\n",
    "import matplotlib.pyplot as plt\n",
    "from sklearn.model_selection import train_test_split\n"
   ]
  },
  {
   "cell_type": "markdown",
   "metadata": {
    "id": "9VhLxR83rOa-"
   },
   "source": [
    "---\n",
    "# 2. Check Datasets"
   ]
  },
  {
   "cell_type": "markdown",
   "metadata": {
    "id": "a99rckM9rOa_"
   },
   "source": [
    "> ---\n",
    "> ## 2-1. Dataset unzip"
   ]
  },
  {
   "cell_type": "code",
   "execution_count": 9,
   "metadata": {},
   "outputs": [
    {
     "name": "stdout",
     "output_type": "stream",
     "text": [
      "Train subset size: 14000\n",
      "Test subset size: 3500\n"
     ]
    }
   ],
   "source": [
    "# Paths\n",
    "train_dir = 'aci/train/train/'\n",
    "csv_path = 'aci/train.csv'\n",
    "\n",
    "# Load train data and labels\n",
    "train_df = pd.read_csv(csv_path)\n",
    "train_df['id'] = train_dir + train_df['id']\n",
    "\n",
    "# Split train data into train and test subsets\n",
    "train_subset, test_subset = train_test_split(train_df, test_size=0.2, random_state=42)\n",
    "\n",
    "# Confirm the splits\n",
    "print(\"Train subset size:\", len(train_subset))\n",
    "print(\"Test subset size:\", len(test_subset))"
   ]
  },
  {
   "cell_type": "code",
   "execution_count": null,
   "metadata": {},
   "outputs": [],
   "source": []
  }
 ],
 "metadata": {
  "colab": {
   "name": "[DL]Cactus Classification_VGG16",
   "provenance": []
  },
  "kernelspec": {
   "display_name": "Python 3 (ipykernel)",
   "language": "python",
   "name": "python3"
  },
  "language_info": {
   "codemirror_mode": {
    "name": "ipython",
    "version": 3
   },
   "file_extension": ".py",
   "mimetype": "text/x-python",
   "name": "python",
   "nbconvert_exporter": "python",
   "pygments_lexer": "ipython3",
   "version": "3.8.14"
  }
 },
 "nbformat": 4,
 "nbformat_minor": 1
}
